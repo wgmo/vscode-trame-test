{
 "cells": [
  {
   "cell_type": "code",
   "execution_count": null,
   "id": "c3f532ce",
   "metadata": {},
   "outputs": [
    {
     "name": "stderr",
     "output_type": "stream",
     "text": [
      "usage: ipykernel_launcher.py [-h] [--server] [--banner] [--app] [--no-http]\n",
      "                             [--authKeyFile AUTHKEYFILE] [--hot-reload]\n",
      "                             [--trame-args TRAME_ARGS] [--follow-symlinks]\n",
      "                             [--debug] [--nosignalhandlers] [--host HOST]\n",
      "                             [-p PORT] [--timeout TIMEOUT] [--content CONTENT]\n",
      "                             [--authKey AUTHKEY] [--ws-endpoint WS]\n",
      "                             [--no-ws-endpoint] [--fs-endpoints FSENDPOINTS]\n",
      "                             [--reverse-url REVERSE_URL] [--ssl SSL]\n",
      "ipykernel_launcher.py: error: ambiguous option: --f=/mnt/wslg/runtime-dir/jupyter/runtime/kernel-v38d295f21f4362e54e6cfaddca49cdc13964b1eb0.json could match --follow-symlinks, --fs-endpoints\n"
     ]
    },
    {
     "ename": "SystemExit",
     "evalue": "2",
     "output_type": "error",
     "traceback": [
      "An exception has occurred, use %tb to see the full traceback.\n",
      "\u001b[31mSystemExit\u001b[39m\u001b[31m:\u001b[39m 2\n"
     ]
    }
   ],
   "source": [
    "import pyvista as pv\n",
    "\n",
    "plotter = pv.Plotter()\n",
    "plotter.show()"
   ]
  }
 ],
 "metadata": {
  "kernelspec": {
   "display_name": "Python 3 (ipykernel)",
   "language": "python",
   "name": "python3"
  },
  "language_info": {
   "codemirror_mode": {
    "name": "ipython",
    "version": 3
   },
   "file_extension": ".py",
   "mimetype": "text/x-python",
   "name": "python",
   "nbconvert_exporter": "python",
   "pygments_lexer": "ipython3",
   "version": "3.13.8"
  }
 },
 "nbformat": 4,
 "nbformat_minor": 5
}
